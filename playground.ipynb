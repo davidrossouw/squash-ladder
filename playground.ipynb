{
 "cells": [
  {
   "cell_type": "code",
   "execution_count": 1,
   "metadata": {},
   "outputs": [],
   "source": [
    "import gspread\n",
    "from oauth2client.service_account import ServiceAccountCredentials"
   ]
  },
  {
   "cell_type": "code",
   "execution_count": 2,
   "metadata": {},
   "outputs": [],
   "source": [
    "scope = ['https://spreadsheets.google.com/feeds','https://www.googleapis.com/auth/drive']\n",
    "creds = ServiceAccountCredentials.from_json_keyfile_name('/opt/squash-bf7896d9ce68.json', scope)\n",
    "client = gspread.authorize(creds)"
   ]
  },
  {
   "cell_type": "code",
   "execution_count": 9,
   "metadata": {},
   "outputs": [],
   "source": [
    "#https://docs.google.com/spreadsheets/d/1eGWuXJrEksIQTlQ7VP4_jAm0wpEjZAZm4hRBARywx3o/edit#gid=0\n",
    "sh = client.open_by_key('1eGWuXJrEksIQTlQ7VP4_jAm0wpEjZAZm4hRBARywx3o')\n",
    "worksheet = sh.get_worksheet(0)"
   ]
  },
  {
   "cell_type": "code",
   "execution_count": 10,
   "metadata": {},
   "outputs": [
    {
     "data": {
      "text/plain": [
       "[{'date': '2019-11-26',\n",
       "  'player1': 'David Rossouw',\n",
       "  'player2': 'Scott Nash',\n",
       "  'player1_games': 3,\n",
       "  'player2_games': 2},\n",
       " {'date': '2019-11-26',\n",
       "  'player1': 'David Rossouw',\n",
       "  'player2': 'Daniel Pinelli',\n",
       "  'player1_games': 3,\n",
       "  'player2_games': 1}]"
      ]
     },
     "execution_count": 10,
     "metadata": {},
     "output_type": "execute_result"
    }
   ],
   "source": [
    "worksheet.get_all_records()"
   ]
  },
  {
   "cell_type": "code",
   "execution_count": 45,
   "metadata": {},
   "outputs": [],
   "source": [
    "class Player():\n",
    "    \"\"\"A squash player\"\"\"\n",
    "    def __init__(self, first_name, last_name):\n",
    "        self.name = first_name + ' ' + last_name\n",
    "        self.wins = 0\n",
    "        self.losses = 0\n",
    "        self.draws = 0\n",
    "        self.history = []\n",
    "        self.id = 'hash1'\n",
    "        \n",
    "    def submit_result(self, date:str, opponent, player_games:int, opponent_games:int):\n",
    "        result = {'date': date,\n",
    "                  'opponent': opponent,\n",
    "                  'player_games': player_games,\n",
    "                  'opponent_games': opponent_games}\n",
    "        \n",
    "        self.history.extend(result)\n",
    "        return result\n",
    "        \n",
    "    def show_record(self):\n",
    "        return self.history\n",
    "        \n",
    "    def show_win_loss(self):\n",
    "        return {'wins': self.wins, 'losses': self.losses}\n",
    "        "
   ]
  },
  {
   "cell_type": "code",
   "execution_count": 46,
   "metadata": {},
   "outputs": [],
   "source": [
    "player1 = Player(first_name='David', last_name='Rossouw')"
   ]
  },
  {
   "cell_type": "code",
   "execution_count": 47,
   "metadata": {},
   "outputs": [],
   "source": [
    "player2 = Player(first_name='Scott', last_name='Nash')"
   ]
  },
  {
   "cell_type": "code",
   "execution_count": 48,
   "metadata": {},
   "outputs": [
    {
     "data": {
      "text/plain": [
       "[]"
      ]
     },
     "execution_count": 48,
     "metadata": {},
     "output_type": "execute_result"
    }
   ],
   "source": [
    "player1.show_record()"
   ]
  },
  {
   "cell_type": "code",
   "execution_count": 49,
   "metadata": {},
   "outputs": [
    {
     "data": {
      "text/plain": [
       "{'date': '2019-11-26',\n",
       " 'opponent': <__main__.Player at 0x109734f28>,\n",
       " 'player_games': 3,\n",
       " 'opponent_games': 2}"
      ]
     },
     "execution_count": 49,
     "metadata": {},
     "output_type": "execute_result"
    }
   ],
   "source": [
    "player1.submit_result(date='2019-11-26', opponent=player2, player_games=3, opponent_games=2)"
   ]
  },
  {
   "cell_type": "code",
   "execution_count": null,
   "metadata": {},
   "outputs": [],
   "source": []
  }
 ],
 "metadata": {
  "kernelspec": {
   "display_name": "squash-env",
   "language": "python",
   "name": "squash-env"
  },
  "language_info": {
   "codemirror_mode": {
    "name": "ipython",
    "version": 3
   },
   "file_extension": ".py",
   "mimetype": "text/x-python",
   "name": "python",
   "nbconvert_exporter": "python",
   "pygments_lexer": "ipython3",
   "version": "3.6.5"
  }
 },
 "nbformat": 4,
 "nbformat_minor": 2
}
